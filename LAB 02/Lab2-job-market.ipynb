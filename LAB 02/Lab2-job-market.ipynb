{
 "cells": [
  {
   "cell_type": "code",
   "execution_count": 1,
   "id": "e67084c0",
   "metadata": {},
   "outputs": [],
   "source": [
    "import pandas as pd\n",
    "df = pd.read_csv('job-market.csv')\n",
    "top_10 = df.head(10)"
   ]
  },
  {
   "cell_type": "code",
   "execution_count": 2,
   "id": "35c9f807",
   "metadata": {},
   "outputs": [
    {
     "data": {
      "text/plain": [
       "<AxesSubplot:xlabel='Id'>"
      ]
     },
     "execution_count": 2,
     "metadata": {},
     "output_type": "execute_result"
    },
    {
     "data": {
      "image/png": "[encoded data removed]",
      "text/plain": [
       "<Figure size 640x480 with 1 Axes>"
      ]
     },
     "metadata": {},
     "output_type": "display_data"
    }
   ],
   "source": [
    "top_10.plot(kind='bar', x='Id', y='HighestSalary')"
   ]
  },
  {
   "cell_type": "code",
   "execution_count": 3,
   "id": "d1668636",
   "metadata": {},
   "outputs": [
    {
     "name": "stdout",
     "output_type": "stream",
     "text": [
      "Id                      0\n",
      "Title                   0\n",
      "Company               616\n",
      "Date                    0\n",
      "Location                0\n",
      "Area                 3707\n",
      "Classification          0\n",
      "SubClassification       0\n",
      "Requirement             0\n",
      "FullDescription       256\n",
      "LowestSalary            0\n",
      "HighestSalary           0\n",
      "JobType               247\n",
      "dtype: int64\n"
     ]
    }
   ],
   "source": [
    "df = df.dropna(subset=['HighestSalary'])\n",
    "df['HighestSalary'] = df['HighestSalary'].astype(int)\n",
    "print(df.isnull().sum())"
   ]
  },
  {
   "cell_type": "code",
   "execution_count": 5,
   "id": "1dde4341",
   "metadata": {},
   "outputs": [
    {
     "name": "stdout",
     "output_type": "stream",
     "text": [
      "0\n"
     ]
    },
    {
     "name": "stderr",
     "output_type": "stream",
     "text": [
      "C:\\Users\\My My\\AppData\\Local\\Temp\\ipykernel_28388\\1631547470.py:2: FutureWarning: Dropping of nuisance columns in DataFrame reductions (with 'numeric_only=None') is deprecated; in a future version this will raise TypeError.  Select only valid columns before calling the reduction.\n",
      "  df = df.fillna(df.mean())\n"
     ]
    }
   ],
   "source": [
    "df = df.dropna()\n",
    "df = df.fillna(df.mean())\n",
    "print(df.duplicated().sum())"
   ]
  },
  {
   "cell_type": "code",
   "execution_count": 6,
   "id": "35880e17",
   "metadata": {},
   "outputs": [],
   "source": [
    "df = df.drop_duplicates()"
   ]
  },
  {
   "cell_type": "code",
   "execution_count": 8,
   "id": "1e2e20a1",
   "metadata": {},
   "outputs": [],
   "source": [
    "\n",
    "import seaborn as sns"
   ]
  },
  {
   "cell_type": "code",
   "execution_count": 11,
   "id": "f087e6de",
   "metadata": {},
   "outputs": [
    {
     "data": {
      "text/plain": [
       "<AxesSubplot:xlabel='Id'>"
      ]
     },
     "execution_count": 11,
     "metadata": {},
     "output_type": "execute_result"
    },
    {
     "data": {
      "image/png": "[encoded data removed]",
      "text/plain": [
       "<Figure size 640x480 with 1 Axes>"
      ]
     },
     "metadata": {},
     "output_type": "display_data"
    }
   ],
   "source": [
    "sns.boxplot(x='Id', data=df)"
   ]
  },
  {
   "cell_type": "code",
   "execution_count": 12,
   "id": "7010ce41",
   "metadata": {},
   "outputs": [],
   "source": [
    "df = df[(df['Id'] >= df['Id'].quantile(0.05)) & (df['Id'] <= df['Id'].quantile(0.95))]"
   ]
  },
  {
   "cell_type": "code",
   "execution_count": 13,
   "id": "9e430679",
   "metadata": {},
   "outputs": [
    {
     "name": "stdout",
     "output_type": "stream",
     "text": [
      "             Id                                              Title  \\\n",
      "358  37381095.0                    Product Manager : Critical Care   \n",
      "368  37403063.0                           Senior Software Engineer   \n",
      "562  37403746.0               Asset Manager | Human Services  |NFP   \n",
      "563  37403745.0  Junior Sales Advisors – Graduates Welcome! - N...   \n",
      "564  37403744.0                                       Electricians   \n",
      "\n",
      "                                             Company  \\\n",
      "358                    medipharm recruitment pty ltd   \n",
      "368                                 Bondle Australia   \n",
      "562                           Robert Half Technology   \n",
      "563                                       My Joblist   \n",
      "564  Randstad - Construction, Property & Engineering   \n",
      "\n",
      "                         Date   Location                               Area  \\\n",
      "358  2018-10-07T00:00:00.000Z     Sydney  CBD, Inner West & Eastern Suburbs   \n",
      "368  2018-10-07T00:00:00.000Z     Sydney  CBD, Inner West & Eastern Suburbs   \n",
      "562  2018-10-07T00:00:00.000Z  Melbourne                CBD & Inner Suburbs   \n",
      "563  2018-10-07T00:00:00.000Z     Sydney  CBD, Inner West & Eastern Suburbs   \n",
      "564  2018-10-07T00:00:00.000Z     Sydney       Parramatta & Western Suburbs   \n",
      "\n",
      "                             Classification  \\\n",
      "358              Marketing & Communications   \n",
      "368  Information & Communication Technology   \n",
      "562                  Real Estate & Property   \n",
      "563                                   Sales   \n",
      "564                       Trades & Services   \n",
      "\n",
      "                     SubClassification  \\\n",
      "358   Product Management & Development   \n",
      "368             Engineering - Software   \n",
      "562                              Other   \n",
      "563  Sales Representatives/Consultants   \n",
      "564                       Electricians   \n",
      "\n",
      "                                           Requirement  \\\n",
      "358  Newly created Product Manager / Assoc. PM with...   \n",
      "368  A unique opportunity for a high calibre senior...   \n",
      "562  A well-known human service provider is in need...   \n",
      "563  Simplx is Sydney's #1 Sales & Marketing Compan...   \n",
      "564  Randstad's top tier electrical and engineering...   \n",
      "\n",
      "                                       FullDescription  LowestSalary  \\\n",
      "358  <p>This reputable global medical provider of D...           0.0   \n",
      "368  <p> </p><p><strong>About the business</strong>...           0.0   \n",
      "562  <p><strong>The Company</strong></p><p>This is ...           0.0   \n",
      "563  <p>Have you recently graduated and are looking...           0.0   \n",
      "564  <p> </p>\\n        <p> </p>\\n        <p style=\"...           0.0   \n",
      "\n",
      "     HighestSalary        JobType  \n",
      "358             30      Full Time  \n",
      "368             30      Full Time  \n",
      "562             30      Full Time  \n",
      "563             30      Full Time  \n",
      "564             30  Contract/Temp  \n",
      "                 Id  LowestSalary  HighestSalary\n",
      "count  5.308000e+03   5308.000000    5308.000000\n",
      "mean   3.739363e+07     25.608515      43.102864\n",
      "std    9.552423e+03     20.717007      11.790808\n",
      "min    3.736200e+07      0.000000      30.000000\n",
      "25%    3.738893e+07      0.000000      30.000000\n",
      "50%    3.739687e+07     30.000000      40.000000\n",
      "75%    3.740124e+07     40.000000      50.000000\n",
      "max    3.740375e+07     50.000000      60.000000\n",
      "Id                   0\n",
      "Title                0\n",
      "Company              0\n",
      "Date                 0\n",
      "Location             0\n",
      "Area                 0\n",
      "Classification       0\n",
      "SubClassification    0\n",
      "Requirement          0\n",
      "FullDescription      0\n",
      "LowestSalary         0\n",
      "HighestSalary        0\n",
      "JobType              0\n",
      "dtype: int64\n",
      "0\n"
     ]
    }
   ],
   "source": [
    "print(df.head())\n",
    "\n",
    "print(df.describe())\n",
    "\n",
    "print(df.isnull().sum())\n",
    "\n",
    "print(df.duplicated().sum())"
   ]
  },
  {
   "cell_type": "code",
   "execution_count": null,
   "id": "e91202c8",
   "metadata": {},
   "outputs": [],
   "source": []
  }
 ],
 "metadata": {
  "kernelspec": {
   "display_name": "Python 3 (ipykernel)",
   "language": "python",
   "name": "python3"
  },
  "language_info": {
   "codemirror_mode": {
    "name": "ipython",
    "version": 3
   },
   "file_extension": ".py",
   "mimetype": "text/x-python",
   "name": "python",
   "nbconvert_exporter": "python",
   "pygments_lexer": "ipython3",
   "version": "3.9.13"
  }
 },
 "nbformat": 4,
 "nbformat_minor": 5
}
